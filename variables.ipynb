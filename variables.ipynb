{
 "cells": [
  {
   "cell_type": "code",
   "execution_count": 1,
   "metadata": {},
   "outputs": [],
   "source": [
    "#variables need not be declared in Python and are case sensitive"
   ]
  },
  {
   "cell_type": "code",
   "execution_count": 2,
   "metadata": {},
   "outputs": [
    {
     "name": "stdout",
     "output_type": "stream",
     "text": [
      "13\n",
      "14\n"
     ]
    }
   ],
   "source": [
    "a = 13\n",
    "A = 14\n",
    "print(a)\n",
    "print(A)\n"
   ]
  },
  {
   "cell_type": "code",
   "execution_count": 3,
   "metadata": {},
   "outputs": [
    {
     "name": "stdout",
     "output_type": "stream",
     "text": [
      "27\n"
     ]
    }
   ],
   "source": [
    "#expression\n",
    "c = a + A\n",
    "print(c)\n"
   ]
  },
  {
   "cell_type": "code",
   "execution_count": 4,
   "metadata": {},
   "outputs": [],
   "source": [
    "#In python value of inetger is not restricted by the number of bits and\n",
    "#can be expanded to the limit of available memory\n"
   ]
  },
  {
   "cell_type": "code",
   "execution_count": 5,
   "metadata": {},
   "outputs": [
    {
     "name": "stdout",
     "output_type": "stream",
     "text": [
      "<class 'int'>\n"
     ]
    }
   ],
   "source": [
    "x=13\n",
    "print(type(x))\n"
   ]
  },
  {
   "cell_type": "code",
   "execution_count": 6,
   "metadata": {},
   "outputs": [
    {
     "name": "stdout",
     "output_type": "stream",
     "text": [
      "<class 'int'>\n"
     ]
    }
   ],
   "source": [
    "x=10000000000000000000000\n",
    "print(type(x))\n"
   ]
  },
  {
   "cell_type": "code",
   "execution_count": 7,
   "metadata": {},
   "outputs": [
    {
     "name": "stdout",
     "output_type": "stream",
     "text": [
      "English\n",
      "Physics\n"
     ]
    }
   ],
   "source": [
    "#local variables\n",
    "def f():\n",
    "    s=\"English\"\n",
    "    print(s)\n",
    "s = \"Physics\"\n",
    "f()\n",
    "print(s)\n"
   ]
  },
  {
   "cell_type": "code",
   "execution_count": 8,
   "metadata": {},
   "outputs": [
    {
     "name": "stdout",
     "output_type": "stream",
     "text": [
      "Physics\n"
     ]
    }
   ],
   "source": [
    "# Global variables - defined outside function\n",
    "\n",
    "def f():\n",
    "    print(s)\n",
    "s = \"Physics\"\n",
    "f()\n"
   ]
  },
  {
   "cell_type": "code",
   "execution_count": 9,
   "metadata": {},
   "outputs": [
    {
     "name": "stdout",
     "output_type": "stream",
     "text": [
      "Physics\n",
      "English\n"
     ]
    }
   ],
   "source": [
    "def f():\n",
    "    global s #accessing global variable\n",
    "    print(s)\n",
    "    s=\"English\"\n",
    "    print(s)\n",
    "s = \"Physics\"\n",
    "f()\n"
   ]
  },
  {
   "cell_type": "code",
   "execution_count": 10,
   "metadata": {},
   "outputs": [],
   "source": [
    "#Packing and unpacking arguments- \"*\" for tuple - \"**\" for dict\n"
   ]
  },
  {
   "cell_type": "code",
   "execution_count": 12,
   "metadata": {},
   "outputs": [
    {
     "name": "stdout",
     "output_type": "stream",
     "text": [
      "10 20 30 40\n"
     ]
    }
   ],
   "source": [
    "#unpacking\n",
    "def fun(a,b,c,d):\n",
    "    print(a,b,c,d)\n",
    "\n",
    "mylist = [10,20,30,40]\n",
    "\n",
    "fun(*mylist) #unpacking list and passing it as arguments\n"
   ]
  },
  {
   "cell_type": "code",
   "execution_count": 14,
   "metadata": {},
   "outputs": [
    {
     "name": "stdout",
     "output_type": "stream",
     "text": [
      "1\n",
      "2\n",
      "3\n",
      "4\n",
      "5\n",
      "6\n",
      "7\n",
      "8\n",
      "9\n"
     ]
    }
   ],
   "source": [
    "args = (1,10)\n",
    "\n",
    "for i in range(*args):  #unpacking in range function\n",
    "    print(i)\n"
   ]
  },
  {
   "cell_type": "code",
   "execution_count": 16,
   "metadata": {},
   "outputs": [
    {
     "name": "stdout",
     "output_type": "stream",
     "text": [
      "13 14\n"
     ]
    }
   ],
   "source": [
    "#unpacking dict\n",
    "\n",
    "def fun(a,b):\n",
    "    print(a,b)\n",
    "    \n",
    "d = {'a':13,'b':14}\n",
    "fun(**d)\n"
   ]
  },
  {
   "cell_type": "code",
   "execution_count": 17,
   "metadata": {},
   "outputs": [
    {
     "name": "stdout",
     "output_type": "stream",
     "text": [
      "10\n"
     ]
    }
   ],
   "source": [
    "#packing\n",
    "\n",
    "def my_sum(*args):\n",
    "    sum = 0\n",
    "    for i in range(0,len(args)):\n",
    "        sum = sum+args[i]\n",
    "    return sum\n",
    "\n",
    "print(my_sum(1,2,3,4))\n"
   ]
  },
  {
   "cell_type": "code",
   "execution_count": 18,
   "metadata": {},
   "outputs": [
    {
     "name": "stdout",
     "output_type": "stream",
     "text": [
      "<class 'dict'>\n",
      "name Priyanka\n",
      "id 44\n"
     ]
    }
   ],
   "source": [
    "#packing dict\n",
    "\n",
    "def fun(**args):\n",
    "    print(type(args))\n",
    "    \n",
    "    for key in args:\n",
    "        print(key,args[key])\n",
    "fun(name=\"Priyanka\",id=\"44\")\n"
   ]
  },
  {
   "cell_type": "code",
   "execution_count": 19,
   "metadata": {},
   "outputs": [
    {
     "name": "stdout",
     "output_type": "stream",
     "text": [
      "65 97\n"
     ]
    }
   ],
   "source": [
    "#ord() function - converting character to integer\n",
    "s1 = 'A'\n",
    "s2 = 'a'\n",
    "\n",
    "c1,c2 = ord(s1),ord(s2)\n",
    "\n",
    "print(c1,c2)\n"
   ]
  },
  {
   "cell_type": "code",
   "execution_count": 20,
   "metadata": {},
   "outputs": [],
   "source": [
    "#private variables in python"
   ]
  },
  {
   "cell_type": "code",
   "execution_count": 21,
   "metadata": {},
   "outputs": [],
   "source": [
    "#MANGLING IN PYTHON - to avoid name clashes with names in subclasses.\n"
   ]
  },
  {
   "cell_type": "code",
   "execution_count": 24,
   "metadata": {},
   "outputs": [],
   "source": [
    "a=13\n",
    "b=14\n"
   ]
  },
  {
   "cell_type": "code",
   "execution_count": 25,
   "metadata": {},
   "outputs": [
    {
     "data": {
      "text/plain": [
       "27"
      ]
     },
     "execution_count": 25,
     "metadata": {},
     "output_type": "execute_result"
    }
   ],
   "source": [
    "a+b\n"
   ]
  },
  {
   "cell_type": "code",
   "execution_count": 26,
   "metadata": {},
   "outputs": [],
   "source": [
    "# \"_\" returns the last executed expression value\n"
   ]
  },
  {
   "cell_type": "code",
   "execution_count": 27,
   "metadata": {},
   "outputs": [
    {
     "name": "stdout",
     "output_type": "stream",
     "text": [
      "1 2\n"
     ]
    }
   ],
   "source": [
    "def test():\n",
    "    return 1,2,3\n",
    "\n",
    "a,b,_ = test() #used as a throwaway variable\n",
    "print(a,b)\n"
   ]
  },
  {
   "cell_type": "code",
   "execution_count": 28,
   "metadata": {},
   "outputs": [
    {
     "name": "stdout",
     "output_type": "stream",
     "text": [
      "13\n"
     ]
    }
   ],
   "source": [
    "# \"_\" after built-in keywords allows us to use them as variable name\n",
    "\n",
    "sum_ = 13 # sum is a built-in keyword\n",
    "print(sum_)\n"
   ]
  },
  {
   "cell_type": "code",
   "execution_count": 29,
   "metadata": {},
   "outputs": [],
   "source": [
    "# \"_\" before V/F - for internal use - can be modified by class - within class only accessible\n"
   ]
  },
  {
   "cell_type": "code",
   "execution_count": 30,
   "metadata": {},
   "outputs": [],
   "source": [
    "# \"__\" - to rewrite name to avoid name conflict with subclass. changes variable name with class name extension and this is known as mangling\n"
   ]
  },
  {
   "cell_type": "code",
   "execution_count": 31,
   "metadata": {},
   "outputs": [],
   "source": [
    "# \"__\" - for making V/F private - for that class only\n"
   ]
  },
  {
   "cell_type": "code",
   "execution_count": 32,
   "metadata": {},
   "outputs": [],
   "source": [
    "# \"__\" before after underscore with MAGIC METHODS\n",
    "\n",
    "class fun:\n",
    "    def __init__(self,ab): #for initialzing instance variables\n",
    "        self.ab = ab\n"
   ]
  },
  {
   "cell_type": "code",
   "execution_count": 33,
   "metadata": {},
   "outputs": [
    {
     "name": "stdout",
     "output_type": "stream",
     "text": [
      "__main__\n"
     ]
    }
   ],
   "source": [
    "print(__name__) #__name__ - built-in variable tells the name of current module\n"
   ]
  },
  {
   "cell_type": "code",
   "execution_count": 34,
   "metadata": {},
   "outputs": [
    {
     "name": "stdout",
     "output_type": "stream",
     "text": [
      "file name is:  __main__\n",
      "this file is running\n"
     ]
    }
   ],
   "source": [
    "print(\"file name is: \",__name__)\n",
    "\n",
    "if __name__==\"__main__\":\n",
    "    print(\"this file is running\")\n",
    "else:\n",
    "    print(\"it is imported\")\n"
   ]
  },
  {
   "cell_type": "code",
   "execution_count": 35,
   "metadata": {},
   "outputs": [],
   "source": [
    "#\"__name__\" - used to check - file is imported or not\n"
   ]
  },
  {
   "cell_type": "code",
   "execution_count": null,
   "metadata": {},
   "outputs": [],
   "source": []
  }
 ],
 "metadata": {
  "kernelspec": {
   "display_name": "Python 3",
   "language": "python",
   "name": "python3"
  },
  "language_info": {
   "codemirror_mode": {
    "name": "ipython",
    "version": 3
   },
   "file_extension": ".py",
   "mimetype": "text/x-python",
   "name": "python",
   "nbconvert_exporter": "python",
   "pygments_lexer": "ipython3",
   "version": "3.7.6"
  }
 },
 "nbformat": 4,
 "nbformat_minor": 4
}
