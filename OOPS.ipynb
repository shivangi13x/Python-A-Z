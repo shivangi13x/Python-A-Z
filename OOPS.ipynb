{
 "cells": [
  {
   "cell_type": "code",
   "execution_count": 1,
   "metadata": {},
   "outputs": [],
   "source": [
    "# Class in python- a simple program\n"
   ]
  },
  {
   "cell_type": "code",
   "execution_count": 2,
   "metadata": {},
   "outputs": [],
   "source": [
    "class Test:\n",
    "    \n",
    "    #self parameter is always the first and must param of the class methods.\n",
    "    def fun(self): #class method #self-similar to 'this' in java\n",
    "        print(\"shivangi\")\n"
   ]
  },
  {
   "cell_type": "code",
   "execution_count": 3,
   "metadata": {},
   "outputs": [],
   "source": [
    "obj = Test()\n"
   ]
  },
  {
   "cell_type": "code",
   "execution_count": 4,
   "metadata": {},
   "outputs": [
    {
     "name": "stdout",
     "output_type": "stream",
     "text": [
      "shivangi\n"
     ]
    }
   ],
   "source": [
    "obj.fun() # its equal to Test.fun(obj,arg1,arg2)\n"
   ]
  },
  {
   "cell_type": "code",
   "execution_count": 5,
   "metadata": {},
   "outputs": [],
   "source": [
    "# Constructors in Python Class - __init__() method"
   ]
  },
  {
   "cell_type": "code",
   "execution_count": 6,
   "metadata": {},
   "outputs": [],
   "source": [
    "class A:\n",
    "    \n",
    "    def __init__(self,name):\n",
    "        self.name=name\n",
    "    def hero(self):\n",
    "        print(\"hello students:\",self.name)\n"
   ]
  },
  {
   "cell_type": "code",
   "execution_count": 7,
   "metadata": {},
   "outputs": [
    {
     "name": "stdout",
     "output_type": "stream",
     "text": [
      "hello students: Shivangi\n"
     ]
    }
   ],
   "source": [
    "obj = A(\"Shivangi\")\n",
    "obj.hero()\n"
   ]
  },
  {
   "cell_type": "code",
   "execution_count": 8,
   "metadata": {},
   "outputs": [],
   "source": [
    "# Instance Variable vs Class Variable\n",
    "\n",
    "# Instance V. - whose value is assigned inside constructor or method\n",
    "# with \"self\".\n",
    "# Class V. - whose value is assigned in class.\n"
   ]
  },
  {
   "cell_type": "code",
   "execution_count": 9,
   "metadata": {},
   "outputs": [],
   "source": [
    "class Student:\n",
    "    \n",
    "    stream = 'cse' #class variable\n",
    "    \n",
    "    def __init__(self,roll): #i.v. inside constructor\n",
    "        self.roll = roll\n",
    "    \n",
    "    def setName(self,name): #i.v. inside method\n",
    "        self.name=name\n",
    "        \n",
    "    def getName(self):\n",
    "        return self.name\n"
   ]
  },
  {
   "cell_type": "code",
   "execution_count": 10,
   "metadata": {},
   "outputs": [],
   "source": [
    "obj = Student(101)\n"
   ]
  },
  {
   "cell_type": "code",
   "execution_count": 14,
   "metadata": {},
   "outputs": [],
   "source": [
    "obj.setName(\"subject\")\n"
   ]
  },
  {
   "cell_type": "code",
   "execution_count": 12,
   "metadata": {},
   "outputs": [
    {
     "data": {
      "text/plain": [
       "101"
      ]
     },
     "execution_count": 12,
     "metadata": {},
     "output_type": "execute_result"
    }
   ],
   "source": [
    "obj.roll\n"
   ]
  },
  {
   "cell_type": "code",
   "execution_count": 15,
   "metadata": {},
   "outputs": [
    {
     "data": {
      "text/plain": [
       "'subject'"
      ]
     },
     "execution_count": 15,
     "metadata": {},
     "output_type": "execute_result"
    }
   ],
   "source": [
    "obj.name\n"
   ]
  },
  {
   "cell_type": "code",
   "execution_count": 16,
   "metadata": {},
   "outputs": [],
   "source": [
    "# empty class\n",
    "\n",
    "class Test:\n",
    "    pass\n"
   ]
  },
  {
   "cell_type": "code",
   "execution_count": 17,
   "metadata": {},
   "outputs": [],
   "source": [
    "# Data Hiding - using \"__\" before attribute name - those attributes \n",
    "# will not be directly visibile outside.\n"
   ]
  },
  {
   "cell_type": "code",
   "execution_count": 18,
   "metadata": {},
   "outputs": [],
   "source": [
    "class MyClass:\n",
    "    \n",
    "    __hiddenVariable = 0 #hidden member of MyClass\n",
    "    \n",
    "    def add(self,inc):\n",
    "        self.__hiddenVariable += inc\n",
    "        print(self.__hiddenVariable)\n"
   ]
  },
  {
   "cell_type": "code",
   "execution_count": 22,
   "metadata": {},
   "outputs": [
    {
     "name": "stdout",
     "output_type": "stream",
     "text": [
      "2\n",
      "7\n"
     ]
    }
   ],
   "source": [
    "obj = MyClass()\n",
    "obj.add(2)\n",
    "obj.add(5)"
   ]
  },
  {
   "cell_type": "code",
   "execution_count": 24,
   "metadata": {},
   "outputs": [
    {
     "name": "stdout",
     "output_type": "stream",
     "text": [
      "7\n"
     ]
    }
   ],
   "source": [
    "# trick to access hidden variable\n",
    "\n",
    "print(obj._MyClass__hiddenVariable)\n"
   ]
  },
  {
   "cell_type": "code",
   "execution_count": 25,
   "metadata": {},
   "outputs": [],
   "source": [
    "# nothing is truly private in Python\n"
   ]
  },
  {
   "cell_type": "code",
   "execution_count": 26,
   "metadata": {},
   "outputs": [],
   "source": [
    "# printing objects in Python - using __str__ and __repr__\n",
    "\n",
    "class myClass:\n",
    "    \n",
    "    def __init__(self,a,b):\n",
    "        self.a=a\n",
    "        self.b=b\n",
    "    def __str__(self):\n",
    "        return \"a is %s and b is %s\"%(self.a,self.b)\n",
    "    def __repr__(self):\n",
    "        return \"a is %s and b is %s\"%(self.a,self.b)\n"
   ]
  },
  {
   "cell_type": "code",
   "execution_count": 27,
   "metadata": {},
   "outputs": [
    {
     "name": "stdout",
     "output_type": "stream",
     "text": [
      "a is 11 and b is 22\n",
      "[a is 11 and b is 22]\n"
     ]
    }
   ],
   "source": [
    "t = myClass(11,22)\n",
    "print(t) # this calles __str__()\n",
    "print([t]) # this calls __repr__()"
   ]
  },
  {
   "cell_type": "code",
   "execution_count": 28,
   "metadata": {},
   "outputs": [],
   "source": [
    "# INHERITENCE"
   ]
  },
  {
   "cell_type": "code",
   "execution_count": 29,
   "metadata": {},
   "outputs": [],
   "source": [
    "class Person:\n",
    "    \n",
    "    def __init__(self,name):\n",
    "        self.name=name\n",
    "    def isEmp(self):\n",
    "        return False\n",
    "    def getName(self):\n",
    "        return self.name"
   ]
  },
  {
   "cell_type": "code",
   "execution_count": 30,
   "metadata": {},
   "outputs": [],
   "source": [
    "class Employee(Person):\n",
    "    \n",
    "    def isEmp(self):\n",
    "        return True\n"
   ]
  },
  {
   "cell_type": "code",
   "execution_count": 31,
   "metadata": {},
   "outputs": [
    {
     "name": "stdout",
     "output_type": "stream",
     "text": [
      "Shivangi False\n"
     ]
    }
   ],
   "source": [
    "emp = Person(\"Shivangi\")\n",
    "print(emp.getName(),emp.isEmp())\n"
   ]
  },
  {
   "cell_type": "code",
   "execution_count": 34,
   "metadata": {},
   "outputs": [
    {
     "name": "stdout",
     "output_type": "stream",
     "text": [
      "Priyanka True\n"
     ]
    }
   ],
   "source": [
    "emp = Employee(\"Priyanka\")\n",
    "print(emp.getName(),emp.isEmp())\n"
   ]
  },
  {
   "cell_type": "code",
   "execution_count": 35,
   "metadata": {},
   "outputs": [
    {
     "name": "stdout",
     "output_type": "stream",
     "text": [
      "True\n"
     ]
    }
   ],
   "source": [
    "print(issubclass(Employee,Person)) # to check if it derived class"
   ]
  },
  {
   "cell_type": "code",
   "execution_count": 36,
   "metadata": {},
   "outputs": [
    {
     "name": "stdout",
     "output_type": "stream",
     "text": [
      "True\n"
     ]
    }
   ],
   "source": [
    "print(isinstance(emp,Employee)) #emp is instance of Employee"
   ]
  },
  {
   "cell_type": "code",
   "execution_count": 37,
   "metadata": {},
   "outputs": [],
   "source": [
    "#In python3 class Test == class Test(object)"
   ]
  },
  {
   "cell_type": "code",
   "execution_count": 38,
   "metadata": {},
   "outputs": [],
   "source": [
    "# MULTIPLE INHERITENCE - python supports it"
   ]
  },
  {
   "cell_type": "code",
   "execution_count": 39,
   "metadata": {},
   "outputs": [],
   "source": [
    "class T1:\n",
    "    \n",
    "    def __init__(self):\n",
    "        self.name1=\"T1\"\n",
    "        print(\"In T1\")\n",
    "\n",
    "class T2:\n",
    "    \n",
    "    def __init__(self):\n",
    "        self.name2=\"T2\"\n",
    "        print(\"In T2\")\n"
   ]
  },
  {
   "cell_type": "code",
   "execution_count": 40,
   "metadata": {},
   "outputs": [],
   "source": [
    "class Derived(T1,T2):\n",
    "    \n",
    "    def __init__(self):\n",
    "        \n",
    "        T1.__init__(self)\n",
    "        T2.__init__(self)\n",
    "        print(\"Derived\")\n",
    "        \n",
    "    def printname(self):\n",
    "        print(self.name1,self.name2)\n"
   ]
  },
  {
   "cell_type": "code",
   "execution_count": 41,
   "metadata": {},
   "outputs": [
    {
     "name": "stdout",
     "output_type": "stream",
     "text": [
      "In T1\n",
      "In T2\n",
      "Derived\n"
     ]
    }
   ],
   "source": [
    "d = Derived()\n"
   ]
  },
  {
   "cell_type": "code",
   "execution_count": 42,
   "metadata": {},
   "outputs": [
    {
     "name": "stdout",
     "output_type": "stream",
     "text": [
      "T1 T2\n"
     ]
    }
   ],
   "source": [
    "d.printname()\n"
   ]
  },
  {
   "cell_type": "code",
   "execution_count": 43,
   "metadata": {},
   "outputs": [],
   "source": [
    "# ACCESS PARENT MEMBERS IN SUBCLASS\n"
   ]
  },
  {
   "cell_type": "code",
   "execution_count": 44,
   "metadata": {},
   "outputs": [],
   "source": [
    "class Base:\n",
    "    def __init__(self,x):\n",
    "        self.x=x\n",
    "        \n",
    "class Derived(Test):\n",
    "    \n",
    "    def __init__(self,x,y):\n",
    "        Base.x = x  #1. Using Parent Class Name \n",
    "        self.y=y\n",
    "    \n",
    "    def printXY(self):\n",
    "        print(Base.x,self.y)\n"
   ]
  },
  {
   "cell_type": "code",
   "execution_count": 45,
   "metadata": {},
   "outputs": [
    {
     "name": "stdout",
     "output_type": "stream",
     "text": [
      "10 20\n"
     ]
    }
   ],
   "source": [
    "d = Derived(10,20)\n",
    "d.printXY()\n"
   ]
  },
  {
   "cell_type": "code",
   "execution_count": 47,
   "metadata": {},
   "outputs": [
    {
     "name": "stdout",
     "output_type": "stream",
     "text": [
      "Dog has four legs.\n",
      "Dog is a warm-blooded animal.\n"
     ]
    }
   ],
   "source": [
    "class Mammal(object):\n",
    "    def __init__(self, mammalName):\n",
    "        print(mammalName, 'is a warm-blooded animal.')\n",
    "    \n",
    "class Dog(Mammal):\n",
    "    def __init__(self):\n",
    "        print('Dog has four legs.')\n",
    "        super().__init__('Dog')\n",
    "    \n",
    "d1 = Dog()\n"
   ]
  },
  {
   "cell_type": "code",
   "execution_count": 48,
   "metadata": {},
   "outputs": [],
   "source": [
    "#POLYMORPHISM\n"
   ]
  },
  {
   "cell_type": "code",
   "execution_count": 49,
   "metadata": {},
   "outputs": [
    {
     "name": "stdout",
     "output_type": "stream",
     "text": [
      "8\n",
      "4\n"
     ]
    }
   ],
   "source": [
    "# BUILT IN POLYMORPHISM\n",
    "\n",
    "print(len(\"avengers\"))\n",
    "#same function being used for diff. types.\n",
    "print(len([3,5,2,4]))\n"
   ]
  },
  {
   "cell_type": "code",
   "execution_count": 50,
   "metadata": {},
   "outputs": [],
   "source": [
    "# POLYMORPHISM IN INHERITENCE"
   ]
  },
  {
   "cell_type": "code",
   "execution_count": 51,
   "metadata": {},
   "outputs": [],
   "source": [
    "class Bird:\n",
    "    def intro(self):\n",
    "        print(\"Many Birds\")\n",
    "    def flight(self):\n",
    "        print(\"Some can some cannot\")\n",
    "\n",
    "class sparrow(Bird):\n",
    "    def flight(self):\n",
    "        print(\"sparrow can fly\")\n",
    "        \n",
    "class ostrich(Bird):\n",
    "    def flight(self):\n",
    "        print(\"ostrich can fly\")\n"
   ]
  },
  {
   "cell_type": "code",
   "execution_count": 52,
   "metadata": {},
   "outputs": [],
   "source": [
    "b = Bird()\n",
    "s = sparrow()\n",
    "o = ostrich()"
   ]
  },
  {
   "cell_type": "code",
   "execution_count": 53,
   "metadata": {},
   "outputs": [
    {
     "name": "stdout",
     "output_type": "stream",
     "text": [
      "Many Birds\n",
      "Many Birds\n",
      "Many Birds\n"
     ]
    }
   ],
   "source": [
    "b.intro()\n",
    "s.intro()\n",
    "o.intro()\n"
   ]
  },
  {
   "cell_type": "code",
   "execution_count": 54,
   "metadata": {},
   "outputs": [
    {
     "name": "stdout",
     "output_type": "stream",
     "text": [
      "Some can some cannot\n",
      "sparrow can fly\n",
      "ostrich can fly\n"
     ]
    }
   ],
   "source": [
    "b.flight()\n",
    "s.flight()\n",
    "o.flight()\n"
   ]
  },
  {
   "cell_type": "code",
   "execution_count": 55,
   "metadata": {},
   "outputs": [],
   "source": [
    "#function can object as parameter"
   ]
  },
  {
   "cell_type": "code",
   "execution_count": 56,
   "metadata": {},
   "outputs": [],
   "source": [
    "def func(obj):\n",
    "    obj.intro()\n",
    "    obj.flight()"
   ]
  },
  {
   "cell_type": "code",
   "execution_count": 57,
   "metadata": {},
   "outputs": [
    {
     "name": "stdout",
     "output_type": "stream",
     "text": [
      "Many Birds\n",
      "sparrow can fly\n"
     ]
    }
   ],
   "source": [
    "func(s) #passed s - sparrow class object"
   ]
  },
  {
   "cell_type": "code",
   "execution_count": 58,
   "metadata": {},
   "outputs": [],
   "source": [
    "#NOTE - PYTHON DOES NOT SUPPORT METHOD OVERLOADING"
   ]
  },
  {
   "cell_type": "code",
   "execution_count": 59,
   "metadata": {},
   "outputs": [],
   "source": [
    "#CLASS METHODS VS STATIC METHODS\n",
    "#CLASS METHODS - TAKE 'cls' AS FIRST PARAM,MODIFY CLASS STATE, @classmethod\n",
    "# decorater is used, used as factory function\n",
    "#STATIC METHODS -no param, nothing about class state,@staticmethod,utility function"
   ]
  },
  {
   "cell_type": "code",
   "execution_count": 60,
   "metadata": {},
   "outputs": [],
   "source": [
    "from datetime import date\n",
    "\n",
    "class Person:\n",
    "    \n",
    "    def __init__(self,name,age):\n",
    "        self.name=name\n",
    "        self.age=age\n",
    "    \n",
    "    #a class method-to create Person Object by birth year\n",
    "    @classmethod \n",
    "    def fromYear(cls,name,year):\n",
    "        return cls(name,date.today().year-year)\n",
    "    \n",
    "    #a static method to check if person is adult or not\n",
    "    @staticmethod\n",
    "    def isAdult(age):\n",
    "        return age>18\n"
   ]
  },
  {
   "cell_type": "code",
   "execution_count": 61,
   "metadata": {},
   "outputs": [],
   "source": [
    "person1 = Person(\"tony\",21)\n",
    "person2 = Person.fromYear(\"robert\",1996)"
   ]
  },
  {
   "cell_type": "code",
   "execution_count": 62,
   "metadata": {},
   "outputs": [
    {
     "name": "stdout",
     "output_type": "stream",
     "text": [
      "21\n",
      "24\n"
     ]
    }
   ],
   "source": [
    "print(person1.age)\n",
    "print(person2.age)"
   ]
  },
  {
   "cell_type": "code",
   "execution_count": 63,
   "metadata": {},
   "outputs": [
    {
     "name": "stdout",
     "output_type": "stream",
     "text": [
      "True\n"
     ]
    }
   ],
   "source": [
    "print(Person.isAdult(22))"
   ]
  },
  {
   "cell_type": "code",
   "execution_count": 64,
   "metadata": {},
   "outputs": [],
   "source": [
    "# CHANGING CLASS MEMBERS IN PYTHON"
   ]
  },
  {
   "cell_type": "code",
   "execution_count": 65,
   "metadata": {},
   "outputs": [],
   "source": [
    "#class members cannot be changed by object - instead it creates instance\n",
    "# varaible for the object that shadows the class member"
   ]
  },
  {
   "cell_type": "code",
   "execution_count": 66,
   "metadata": {},
   "outputs": [],
   "source": [
    "class Student:\n",
    "    stream = 'cse' #class member\n",
    "    \n",
    "    def __init__(self,name):\n",
    "        self.name=name"
   ]
  },
  {
   "cell_type": "code",
   "execution_count": 67,
   "metadata": {},
   "outputs": [],
   "source": [
    "a = Student(\"Chris\")\n",
    "b = Student(\"tony\")"
   ]
  },
  {
   "cell_type": "code",
   "execution_count": 68,
   "metadata": {},
   "outputs": [
    {
     "name": "stdout",
     "output_type": "stream",
     "text": [
      "Initially\n",
      "cse\n",
      "after chaning\n",
      "ece\n",
      "cse\n"
     ]
    }
   ],
   "source": [
    "print(\"Initially\")\n",
    "print(a.stream)\n",
    "a.stream='ece'\n",
    "print(\"after chaning\")\n",
    "print(a.stream)\n",
    "print(b.stream) #did not change for b object"
   ]
  },
  {
   "cell_type": "code",
   "execution_count": 69,
   "metadata": {},
   "outputs": [],
   "source": [
    "#we should change class members using class name only."
   ]
  },
  {
   "cell_type": "code",
   "execution_count": 70,
   "metadata": {},
   "outputs": [],
   "source": [
    "Student.stream = 'ece'"
   ]
  },
  {
   "cell_type": "code",
   "execution_count": 71,
   "metadata": {},
   "outputs": [
    {
     "name": "stdout",
     "output_type": "stream",
     "text": [
      "ece\n",
      "ece\n"
     ]
    }
   ],
   "source": [
    "print(a.stream)\n",
    "print(b.stream)"
   ]
  },
  {
   "cell_type": "code",
   "execution_count": 72,
   "metadata": {},
   "outputs": [],
   "source": [
    "#DESTRUCTOR IN PYTHON - called when objects gets destroyed, python has garbage\n",
    "# collector invokes automatically."
   ]
  },
  {
   "cell_type": "code",
   "execution_count": 73,
   "metadata": {},
   "outputs": [],
   "source": [
    "# __del__() - destructor method in python"
   ]
  },
  {
   "cell_type": "code",
   "execution_count": 74,
   "metadata": {},
   "outputs": [],
   "source": [
    "class Test:\n",
    "    \n",
    "    def __init__(self):\n",
    "        print('Employee created')\n",
    "        \n",
    "    def __del__(self):\n",
    "        print('Destructor called')"
   ]
  },
  {
   "cell_type": "code",
   "execution_count": 75,
   "metadata": {},
   "outputs": [
    {
     "name": "stdout",
     "output_type": "stream",
     "text": [
      "Employee created\n"
     ]
    }
   ],
   "source": [
    "obj = Test()"
   ]
  },
  {
   "cell_type": "code",
   "execution_count": 76,
   "metadata": {},
   "outputs": [
    {
     "name": "stdout",
     "output_type": "stream",
     "text": [
      "Destructor called\n"
     ]
    }
   ],
   "source": [
    "del obj"
   ]
  },
  {
   "cell_type": "code",
   "execution_count": 77,
   "metadata": {},
   "outputs": [],
   "source": [
    "#Metaclass"
   ]
  },
  {
   "cell_type": "code",
   "execution_count": 78,
   "metadata": {},
   "outputs": [],
   "source": [
    "# everything in python is defined by type()"
   ]
  },
  {
   "cell_type": "code",
   "execution_count": 79,
   "metadata": {},
   "outputs": [],
   "source": [
    "class Student:\n",
    "    pass"
   ]
  },
  {
   "cell_type": "code",
   "execution_count": 80,
   "metadata": {},
   "outputs": [
    {
     "data": {
      "text/plain": [
       "type"
      ]
     },
     "execution_count": 80,
     "metadata": {},
     "output_type": "execute_result"
    }
   ],
   "source": [
    "type(Student) #coz classes are also objects.\n"
   ]
  },
  {
   "cell_type": "code",
   "execution_count": 81,
   "metadata": {},
   "outputs": [],
   "source": [
    "# Metaclasses create classes and then classes create objects"
   ]
  },
  {
   "cell_type": "code",
   "execution_count": 82,
   "metadata": {},
   "outputs": [],
   "source": [
    "# instance attributes - vars() and dir()"
   ]
  },
  {
   "cell_type": "code",
   "execution_count": 83,
   "metadata": {},
   "outputs": [],
   "source": [
    "class Student:\n",
    "    def __init__(self):\n",
    "        self.name='abc'\n",
    "        self.age = 21\n",
    "    def show(self):\n",
    "        print(self.name)\n",
    "        print(self.age)\n"
   ]
  },
  {
   "cell_type": "code",
   "execution_count": 84,
   "metadata": {},
   "outputs": [
    {
     "name": "stdout",
     "output_type": "stream",
     "text": [
      "Dictionary form:  {'name': 'abc', 'age': 21}\n",
      "More attribute then vars() using dir() ['__class__', '__delattr__', '__dict__', '__dir__', '__doc__', '__eq__', '__format__', '__ge__', '__getattribute__', '__gt__', '__hash__', '__init__', '__init_subclass__', '__le__', '__lt__', '__module__', '__ne__', '__new__', '__reduce__', '__reduce_ex__', '__repr__', '__setattr__', '__sizeof__', '__str__', '__subclasshook__', '__weakref__', 'age', 'name', 'show']\n"
     ]
    }
   ],
   "source": [
    "s1 = Student()\n",
    "print(\"Dictionary form: \",vars(s1))\n",
    "print(\"More attribute then vars() using dir()\",dir(s1))\n"
   ]
  },
  {
   "cell_type": "code",
   "execution_count": 85,
   "metadata": {},
   "outputs": [],
   "source": [
    "# manual gaarbage collection\n"
   ]
  },
  {
   "cell_type": "code",
   "execution_count": 86,
   "metadata": {},
   "outputs": [
    {
     "name": "stdout",
     "output_type": "stream",
     "text": [
      "garbage collected: 79\n",
      "{1: {...}}\n",
      "{2: {...}}\n",
      "{3: {...}}\n",
      "{4: {...}}\n",
      "{5: {...}}\n",
      "garbage collected: 5\n"
     ]
    }
   ],
   "source": [
    "import gc\n",
    "\n",
    "def create_cycle2():\n",
    "    x={}\n",
    "    x[i+1]=x\n",
    "    print(x)\n",
    "\n",
    "c2 = gc.collect()\n",
    "print(\"garbage collected:\",c2)\n",
    "\n",
    "for i in range(5):\n",
    "    create_cycle2()\n",
    "    \n",
    "c2 = gc.collect()\n",
    "print(\"garbage collected:\",c2)\n"
   ]
  },
  {
   "cell_type": "code",
   "execution_count": null,
   "metadata": {},
   "outputs": [],
   "source": []
  }
 ],
 "metadata": {
  "kernelspec": {
   "display_name": "Python 3",
   "language": "python",
   "name": "python3"
  },
  "language_info": {
   "codemirror_mode": {
    "name": "ipython",
    "version": 3
   },
   "file_extension": ".py",
   "mimetype": "text/x-python",
   "name": "python",
   "nbconvert_exporter": "python",
   "pygments_lexer": "ipython3",
   "version": "3.7.6"
  }
 },
 "nbformat": 4,
 "nbformat_minor": 4
}
