{
 "cells": [
  {
   "cell_type": "code",
   "execution_count": 1,
   "metadata": {},
   "outputs": [
    {
     "name": "stdout",
     "output_type": "stream",
     "text": [
      "Enter name: shivangi\n",
      "shivangi\n"
     ]
    }
   ],
   "source": [
    "#string input using input()\n",
    "\n",
    "name = input(\"Enter name: \")\n",
    "print(name)"
   ]
  },
  {
   "cell_type": "code",
   "execution_count": 2,
   "metadata": {},
   "outputs": [
    {
     "name": "stdout",
     "output_type": "stream",
     "text": [
      "Enter value: 89\n",
      "89\n"
     ]
    }
   ],
   "source": [
    "#integer input\n",
    "\n",
    "val = int(input(\"Enter value: \"))\n",
    "print(val)\n"
   ]
  },
  {
   "cell_type": "code",
   "execution_count": 3,
   "metadata": {},
   "outputs": [],
   "source": [
    "#multiple inputs using split()\n"
   ]
  },
  {
   "cell_type": "code",
   "execution_count": 4,
   "metadata": {},
   "outputs": [
    {
     "name": "stdout",
     "output_type": "stream",
     "text": [
      "Enter two values: 18 45\n",
      "18\n",
      "45\n"
     ]
    }
   ],
   "source": [
    "x,y = input(\"Enter two values: \").split()\n",
    "print(x)\n",
    "print(y)\n"
   ]
  },
  {
   "cell_type": "code",
   "execution_count": 5,
   "metadata": {},
   "outputs": [
    {
     "name": "stdout",
     "output_type": "stream",
     "text": [
      "Enter two values: 10 20\n",
      "First number is 10 and second number is 20\n"
     ]
    }
   ],
   "source": [
    "# .format() method\n",
    "x,y = input(\"Enter two values: \").split()\n",
    "print(\"First number is {} and second number is {}\".format(x,y))\n"
   ]
  },
  {
   "cell_type": "code",
   "execution_count": 6,
   "metadata": {},
   "outputs": [],
   "source": [
    "#multiple values and typecasting using list()\n"
   ]
  },
  {
   "cell_type": "code",
   "execution_count": 7,
   "metadata": {},
   "outputs": [
    {
     "name": "stdout",
     "output_type": "stream",
     "text": [
      "enter values: 1 3 45 67\n",
      "[1, 3, 45, 67]\n"
     ]
    }
   ],
   "source": [
    "x = list(map(int,input(\"enter values: \").split()))\n",
    "print(x) #list\n"
   ]
  },
  {
   "cell_type": "code",
   "execution_count": 8,
   "metadata": {},
   "outputs": [],
   "source": [
    "#multiple inputs using list comprehension\n"
   ]
  },
  {
   "cell_type": "code",
   "execution_count": 9,
   "metadata": {},
   "outputs": [
    {
     "name": "stdout",
     "output_type": "stream",
     "text": [
      "10 20\n",
      "10\n",
      "20\n"
     ]
    }
   ],
   "source": [
    "x,y = [int(x) for x in input().split()]\n",
    "print(x)\n",
    "print(y)\n"
   ]
  },
  {
   "cell_type": "markdown",
   "metadata": {},
   "source": [
    "#output in Python\n"
   ]
  },
  {
   "cell_type": "code",
   "execution_count": 10,
   "metadata": {},
   "outputs": [
    {
     "name": "stdout",
     "output_type": "stream",
     "text": [
      "Maths: Integration\n"
     ]
    }
   ],
   "source": [
    "#print() function\n",
    "print(\"Maths: Integration\")\n"
   ]
  },
  {
   "cell_type": "code",
   "execution_count": 11,
   "metadata": {},
   "outputs": [
    {
     "name": "stdout",
     "output_type": "stream",
     "text": [
      "x = 5\n"
     ]
    }
   ],
   "source": [
    "x=5\n",
    "print(\"x =\",x)\n"
   ]
  },
  {
   "cell_type": "code",
   "execution_count": 12,
   "metadata": {},
   "outputs": [
    {
     "name": "stdout",
     "output_type": "stream",
     "text": [
      "AS\n"
     ]
    }
   ],
   "source": [
    "print('A','S',sep=\"\") #no softspace\n"
   ]
  },
  {
   "cell_type": "code",
   "execution_count": 13,
   "metadata": {},
   "outputs": [
    {
     "name": "stdout",
     "output_type": "stream",
     "text": [
      "Shivangi@Sharma\n"
     ]
    }
   ],
   "source": [
    "print(\"Shivangi\",end=\"@\") #using end argument\n",
    "print(\"Sharma\")\n"
   ]
  },
  {
   "cell_type": "code",
   "execution_count": 14,
   "metadata": {},
   "outputs": [
    {
     "name": "stdout",
     "output_type": "stream",
     "text": [
      "22-09-2020\n"
     ]
    }
   ],
   "source": [
    "print('22','09','2020',sep='-') #formatting date\n"
   ]
  },
  {
   "cell_type": "code",
   "execution_count": 15,
   "metadata": {},
   "outputs": [
    {
     "name": "stdout",
     "output_type": "stream",
     "text": [
      "ShivIM@Sharma\n"
     ]
    }
   ],
   "source": [
    "print(\"Shiv\",\"IM\",end=\"@\",sep=\"\")\n",
    "print('Sharma')\n"
   ]
  },
  {
   "cell_type": "code",
   "execution_count": 16,
   "metadata": {},
   "outputs": [
    {
     "name": "stdout",
     "output_type": "stream",
     "text": [
      "###############shivangi sharma###############\n",
      "shivangi sharma------------------------------\n",
      "******************************shivangi sharma\n"
     ]
    }
   ],
   "source": [
    "#justificaton in string output\n",
    "name=\"shivangi sharma\"\n",
    "print(name.center(40,'#'))\n",
    "print(name.ljust(40,'-'))\n",
    "print(name.rjust(40,'*'))\n"
   ]
  },
  {
   "cell_type": "code",
   "execution_count": null,
   "metadata": {},
   "outputs": [],
   "source": []
  }
 ],
 "metadata": {
  "kernelspec": {
   "display_name": "Python 3",
   "language": "python",
   "name": "python3"
  },
  "language_info": {
   "codemirror_mode": {
    "name": "ipython",
    "version": 3
   },
   "file_extension": ".py",
   "mimetype": "text/x-python",
   "name": "python",
   "nbconvert_exporter": "python",
   "pygments_lexer": "ipython3",
   "version": "3.7.6"
  }
 },
 "nbformat": 4,
 "nbformat_minor": 4
}
